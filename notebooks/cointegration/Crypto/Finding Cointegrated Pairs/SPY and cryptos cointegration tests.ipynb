{
 "cells": [
  {
   "cell_type": "code",
   "execution_count": 2,
   "metadata": {},
   "outputs": [],
   "source": [
    "from statsmodels.tsa.stattools import coint\n",
    "import pandas as pd"
   ]
  },
  {
   "cell_type": "code",
   "execution_count": 1,
   "metadata": {},
   "outputs": [
    {
     "name": "stdout",
     "output_type": "stream",
     "text": [
      "/home/user/PycharmProjects/crypto_backend/notebooks/cointegration/Crypto/Finding Cointegrated Pairs\n"
     ]
    }
   ],
   "source": [
    "! pwd"
   ]
  },
  {
   "cell_type": "code",
   "execution_count": 2,
   "metadata": {},
   "outputs": [
    {
     "name": "stdout",
     "output_type": "stream",
     "text": [
      " findCointegratedPairs.ipynb  'Price Data'\n",
      " getPriceData-Copy1.ipynb     'SPY and cryptos cointegration tests.ipynb'\n",
      " getPriceData.ipynb\n"
     ]
    }
   ],
   "source": [
    "! ls"
   ]
  },
  {
   "cell_type": "code",
   "execution_count": null,
   "metadata": {},
   "outputs": [],
   "source": [
    "notebooks/cointegration/Crypto"
   ]
  },
  {
   "cell_type": "code",
   "execution_count": 3,
   "metadata": {},
   "outputs": [],
   "source": [
    "spy = pd.read_csv('../ETFs/spy.us.txt')\n",
    "spy_close = spy['Close']"
   ]
  },
  {
   "cell_type": "code",
   "execution_count": 4,
   "metadata": {},
   "outputs": [
    {
     "name": "stdout",
     "output_type": "stream",
     "text": [
      "<class 'pandas.core.series.Series'>\n",
      "RangeIndex: 3201 entries, 0 to 3200\n",
      "Series name: Close\n",
      "Non-Null Count  Dtype  \n",
      "--------------  -----  \n",
      "3201 non-null   float64\n",
      "dtypes: float64(1)\n",
      "memory usage: 25.1 KB\n"
     ]
    }
   ],
   "source": [
    "spy_close.info()"
   ]
  },
  {
   "cell_type": "code",
   "execution_count": 7,
   "metadata": {},
   "outputs": [
    {
     "data": {
      "text/plain": [
       "0    105.79\n",
       "1    105.08\n",
       "2    105.62\n",
       "3    105.57\n",
       "4    105.61\n",
       "Name: Close, dtype: float64"
      ]
     },
     "execution_count": 7,
     "metadata": {},
     "output_type": "execute_result"
    }
   ],
   "source": [
    "spy_close.head()"
   ]
  },
  {
   "cell_type": "code",
   "execution_count": 10,
   "metadata": {},
   "outputs": [
    {
     "data": {
      "text/html": [
       "<div>\n",
       "<style scoped>\n",
       "    .dataframe tbody tr th:only-of-type {\n",
       "        vertical-align: middle;\n",
       "    }\n",
       "\n",
       "    .dataframe tbody tr th {\n",
       "        vertical-align: top;\n",
       "    }\n",
       "\n",
       "    .dataframe thead th {\n",
       "        text-align: right;\n",
       "    }\n",
       "</style>\n",
       "<table border=\"1\" class=\"dataframe\">\n",
       "  <thead>\n",
       "    <tr style=\"text-align: right;\">\n",
       "      <th></th>\n",
       "      <th>Date</th>\n",
       "      <th>Open</th>\n",
       "      <th>High</th>\n",
       "      <th>Low</th>\n",
       "      <th>Close</th>\n",
       "      <th>Volume</th>\n",
       "      <th>OpenInt</th>\n",
       "    </tr>\n",
       "  </thead>\n",
       "  <tbody>\n",
       "    <tr>\n",
       "      <th>0</th>\n",
       "      <td>2005-02-25</td>\n",
       "      <td>104.77</td>\n",
       "      <td>106.00</td>\n",
       "      <td>104.68</td>\n",
       "      <td>105.79</td>\n",
       "      <td>70221808</td>\n",
       "      <td>0</td>\n",
       "    </tr>\n",
       "    <tr>\n",
       "      <th>1</th>\n",
       "      <td>2005-02-28</td>\n",
       "      <td>105.55</td>\n",
       "      <td>105.68</td>\n",
       "      <td>104.56</td>\n",
       "      <td>105.08</td>\n",
       "      <td>79695344</td>\n",
       "      <td>0</td>\n",
       "    </tr>\n",
       "    <tr>\n",
       "      <th>2</th>\n",
       "      <td>2005-03-01</td>\n",
       "      <td>105.22</td>\n",
       "      <td>105.87</td>\n",
       "      <td>105.22</td>\n",
       "      <td>105.62</td>\n",
       "      <td>54607412</td>\n",
       "      <td>0</td>\n",
       "    </tr>\n",
       "    <tr>\n",
       "      <th>3</th>\n",
       "      <td>2005-03-02</td>\n",
       "      <td>105.21</td>\n",
       "      <td>106.22</td>\n",
       "      <td>105.10</td>\n",
       "      <td>105.57</td>\n",
       "      <td>73733090</td>\n",
       "      <td>0</td>\n",
       "    </tr>\n",
       "    <tr>\n",
       "      <th>4</th>\n",
       "      <td>2005-03-03</td>\n",
       "      <td>105.99</td>\n",
       "      <td>106.20</td>\n",
       "      <td>105.15</td>\n",
       "      <td>105.61</td>\n",
       "      <td>71286823</td>\n",
       "      <td>0</td>\n",
       "    </tr>\n",
       "  </tbody>\n",
       "</table>\n",
       "</div>"
      ],
      "text/plain": [
       "         Date    Open    High     Low   Close    Volume  OpenInt\n",
       "0  2005-02-25  104.77  106.00  104.68  105.79  70221808        0\n",
       "1  2005-02-28  105.55  105.68  104.56  105.08  79695344        0\n",
       "2  2005-03-01  105.22  105.87  105.22  105.62  54607412        0\n",
       "3  2005-03-02  105.21  106.22  105.10  105.57  73733090        0\n",
       "4  2005-03-03  105.99  106.20  105.15  105.61  71286823        0"
      ]
     },
     "execution_count": 10,
     "metadata": {},
     "output_type": "execute_result"
    }
   ],
   "source": [
    "spy.head()"
   ]
  },
  {
   "cell_type": "code",
   "execution_count": 8,
   "metadata": {},
   "outputs": [
    {
     "data": {
      "text/plain": [
       "3196    258.85\n",
       "3197    258.67\n",
       "3198    259.11\n",
       "3199    258.17\n",
       "3200    258.09\n",
       "Name: Close, dtype: float64"
      ]
     },
     "execution_count": 8,
     "metadata": {},
     "output_type": "execute_result"
    }
   ],
   "source": [
    "spy_close.tail()"
   ]
  },
  {
   "cell_type": "code",
   "execution_count": 11,
   "metadata": {},
   "outputs": [
    {
     "data": {
      "text/html": [
       "<div>\n",
       "<style scoped>\n",
       "    .dataframe tbody tr th:only-of-type {\n",
       "        vertical-align: middle;\n",
       "    }\n",
       "\n",
       "    .dataframe tbody tr th {\n",
       "        vertical-align: top;\n",
       "    }\n",
       "\n",
       "    .dataframe thead th {\n",
       "        text-align: right;\n",
       "    }\n",
       "</style>\n",
       "<table border=\"1\" class=\"dataframe\">\n",
       "  <thead>\n",
       "    <tr style=\"text-align: right;\">\n",
       "      <th></th>\n",
       "      <th>Date</th>\n",
       "      <th>Open</th>\n",
       "      <th>High</th>\n",
       "      <th>Low</th>\n",
       "      <th>Close</th>\n",
       "      <th>Volume</th>\n",
       "      <th>OpenInt</th>\n",
       "    </tr>\n",
       "  </thead>\n",
       "  <tbody>\n",
       "    <tr>\n",
       "      <th>3196</th>\n",
       "      <td>2017-11-06</td>\n",
       "      <td>258.30</td>\n",
       "      <td>259.00</td>\n",
       "      <td>258.22</td>\n",
       "      <td>258.85</td>\n",
       "      <td>49529148</td>\n",
       "      <td>0</td>\n",
       "    </tr>\n",
       "    <tr>\n",
       "      <th>3197</th>\n",
       "      <td>2017-11-07</td>\n",
       "      <td>258.97</td>\n",
       "      <td>259.35</td>\n",
       "      <td>258.11</td>\n",
       "      <td>258.67</td>\n",
       "      <td>57218448</td>\n",
       "      <td>0</td>\n",
       "    </tr>\n",
       "    <tr>\n",
       "      <th>3198</th>\n",
       "      <td>2017-11-08</td>\n",
       "      <td>258.47</td>\n",
       "      <td>259.22</td>\n",
       "      <td>258.15</td>\n",
       "      <td>259.11</td>\n",
       "      <td>50277699</td>\n",
       "      <td>0</td>\n",
       "    </tr>\n",
       "    <tr>\n",
       "      <th>3199</th>\n",
       "      <td>2017-11-09</td>\n",
       "      <td>257.73</td>\n",
       "      <td>258.39</td>\n",
       "      <td>256.36</td>\n",
       "      <td>258.17</td>\n",
       "      <td>94537282</td>\n",
       "      <td>0</td>\n",
       "    </tr>\n",
       "    <tr>\n",
       "      <th>3200</th>\n",
       "      <td>2017-11-10</td>\n",
       "      <td>257.73</td>\n",
       "      <td>258.21</td>\n",
       "      <td>257.37</td>\n",
       "      <td>258.09</td>\n",
       "      <td>59862364</td>\n",
       "      <td>0</td>\n",
       "    </tr>\n",
       "  </tbody>\n",
       "</table>\n",
       "</div>"
      ],
      "text/plain": [
       "            Date    Open    High     Low   Close    Volume  OpenInt\n",
       "3196  2017-11-06  258.30  259.00  258.22  258.85  49529148        0\n",
       "3197  2017-11-07  258.97  259.35  258.11  258.67  57218448        0\n",
       "3198  2017-11-08  258.47  259.22  258.15  259.11  50277699        0\n",
       "3199  2017-11-09  257.73  258.39  256.36  258.17  94537282        0\n",
       "3200  2017-11-10  257.73  258.21  257.37  258.09  59862364        0"
      ]
     },
     "execution_count": 11,
     "metadata": {},
     "output_type": "execute_result"
    }
   ],
   "source": [
    "spy.tail()"
   ]
  },
  {
   "cell_type": "code",
   "execution_count": 12,
   "metadata": {},
   "outputs": [
    {
     "data": {
      "text/html": [
       "<div>\n",
       "<style scoped>\n",
       "    .dataframe tbody tr th:only-of-type {\n",
       "        vertical-align: middle;\n",
       "    }\n",
       "\n",
       "    .dataframe tbody tr th {\n",
       "        vertical-align: top;\n",
       "    }\n",
       "\n",
       "    .dataframe thead th {\n",
       "        text-align: right;\n",
       "    }\n",
       "</style>\n",
       "<table border=\"1\" class=\"dataframe\">\n",
       "  <thead>\n",
       "    <tr style=\"text-align: right;\">\n",
       "      <th></th>\n",
       "      <th>open</th>\n",
       "      <th>high</th>\n",
       "      <th>low</th>\n",
       "      <th>close</th>\n",
       "      <th>5. volume</th>\n",
       "      <th>market cap</th>\n",
       "    </tr>\n",
       "  </thead>\n",
       "  <tbody>\n",
       "    <tr>\n",
       "      <th>0</th>\n",
       "      <td>0.5373</td>\n",
       "      <td>0.5444</td>\n",
       "      <td>0.5373</td>\n",
       "      <td>0.5441</td>\n",
       "      <td>141781.0</td>\n",
       "      <td>141781.0</td>\n",
       "    </tr>\n",
       "    <tr>\n",
       "      <th>1</th>\n",
       "      <td>0.5161</td>\n",
       "      <td>0.5407</td>\n",
       "      <td>0.5055</td>\n",
       "      <td>0.5378</td>\n",
       "      <td>4617406.0</td>\n",
       "      <td>4617406.0</td>\n",
       "    </tr>\n",
       "    <tr>\n",
       "      <th>2</th>\n",
       "      <td>0.5110</td>\n",
       "      <td>0.5233</td>\n",
       "      <td>0.5028</td>\n",
       "      <td>0.5159</td>\n",
       "      <td>2638891.0</td>\n",
       "      <td>2638891.0</td>\n",
       "    </tr>\n",
       "    <tr>\n",
       "      <th>3</th>\n",
       "      <td>0.4903</td>\n",
       "      <td>0.5130</td>\n",
       "      <td>0.4856</td>\n",
       "      <td>0.5111</td>\n",
       "      <td>5948304.0</td>\n",
       "      <td>5948304.0</td>\n",
       "    </tr>\n",
       "    <tr>\n",
       "      <th>4</th>\n",
       "      <td>0.4900</td>\n",
       "      <td>0.4941</td>\n",
       "      <td>0.4708</td>\n",
       "      <td>0.4899</td>\n",
       "      <td>2517511.0</td>\n",
       "      <td>2517511.0</td>\n",
       "    </tr>\n",
       "  </tbody>\n",
       "</table>\n",
       "</div>"
      ],
      "text/plain": [
       "     open    high     low   close  5. volume  market cap\n",
       "0  0.5373  0.5444  0.5373  0.5441   141781.0    141781.0\n",
       "1  0.5161  0.5407  0.5055  0.5378  4617406.0   4617406.0\n",
       "2  0.5110  0.5233  0.5028  0.5159  2638891.0   2638891.0\n",
       "3  0.4903  0.5130  0.4856  0.5111  5948304.0   5948304.0\n",
       "4  0.4900  0.4941  0.4708  0.4899  2517511.0   2517511.0"
      ]
     },
     "execution_count": 12,
     "metadata": {},
     "output_type": "execute_result"
    }
   ],
   "source": [
    "df = pd.read_csv('Folder/{}.csv'.format(symbol))\n",
    "df.head()"
   ]
  },
  {
   "cell_type": "code",
   "execution_count": 13,
   "metadata": {},
   "outputs": [
    {
     "data": {
      "text/html": [
       "<div>\n",
       "<style scoped>\n",
       "    .dataframe tbody tr th:only-of-type {\n",
       "        vertical-align: middle;\n",
       "    }\n",
       "\n",
       "    .dataframe tbody tr th {\n",
       "        vertical-align: top;\n",
       "    }\n",
       "\n",
       "    .dataframe thead th {\n",
       "        text-align: right;\n",
       "    }\n",
       "</style>\n",
       "<table border=\"1\" class=\"dataframe\">\n",
       "  <thead>\n",
       "    <tr style=\"text-align: right;\">\n",
       "      <th></th>\n",
       "      <th>open</th>\n",
       "      <th>high</th>\n",
       "      <th>low</th>\n",
       "      <th>close</th>\n",
       "      <th>5. volume</th>\n",
       "      <th>market cap</th>\n",
       "    </tr>\n",
       "  </thead>\n",
       "  <tbody>\n",
       "    <tr>\n",
       "      <th>995</th>\n",
       "      <td>0.3188</td>\n",
       "      <td>0.3580</td>\n",
       "      <td>0.3151</td>\n",
       "      <td>0.3164</td>\n",
       "      <td>3351088.79</td>\n",
       "      <td>3351088.79</td>\n",
       "    </tr>\n",
       "    <tr>\n",
       "      <th>996</th>\n",
       "      <td>0.3258</td>\n",
       "      <td>0.3282</td>\n",
       "      <td>0.2934</td>\n",
       "      <td>0.3188</td>\n",
       "      <td>3006628.16</td>\n",
       "      <td>3006628.16</td>\n",
       "    </tr>\n",
       "    <tr>\n",
       "      <th>997</th>\n",
       "      <td>0.3367</td>\n",
       "      <td>0.3529</td>\n",
       "      <td>0.3140</td>\n",
       "      <td>0.3260</td>\n",
       "      <td>4448459.71</td>\n",
       "      <td>4448459.71</td>\n",
       "    </tr>\n",
       "    <tr>\n",
       "      <th>998</th>\n",
       "      <td>0.3389</td>\n",
       "      <td>0.3465</td>\n",
       "      <td>0.3326</td>\n",
       "      <td>0.3379</td>\n",
       "      <td>1521321.52</td>\n",
       "      <td>1521321.52</td>\n",
       "    </tr>\n",
       "    <tr>\n",
       "      <th>999</th>\n",
       "      <td>0.3441</td>\n",
       "      <td>0.3441</td>\n",
       "      <td>0.3300</td>\n",
       "      <td>0.3389</td>\n",
       "      <td>1466261.12</td>\n",
       "      <td>1466261.12</td>\n",
       "    </tr>\n",
       "  </tbody>\n",
       "</table>\n",
       "</div>"
      ],
      "text/plain": [
       "       open    high     low   close   5. volume  market cap\n",
       "995  0.3188  0.3580  0.3151  0.3164  3351088.79  3351088.79\n",
       "996  0.3258  0.3282  0.2934  0.3188  3006628.16  3006628.16\n",
       "997  0.3367  0.3529  0.3140  0.3260  4448459.71  4448459.71\n",
       "998  0.3389  0.3465  0.3326  0.3379  1521321.52  1521321.52\n",
       "999  0.3441  0.3441  0.3300  0.3389  1466261.12  1466261.12"
      ]
     },
     "execution_count": 13,
     "metadata": {},
     "output_type": "execute_result"
    }
   ],
   "source": [
    "df.tail()"
   ]
  },
  {
   "cell_type": "markdown",
   "metadata": {},
   "source": [
    "**I don't understand how to match it in time space**"
   ]
  },
  {
   "cell_type": "code",
   "execution_count": 7,
   "metadata": {},
   "outputs": [
    {
     "name": "stdout",
     "output_type": "stream",
     "text": [
      " BackTesting.ipynb\n",
      "'cointegration test with SPY,USO,BTC,ETH, and LTC.ipynb'\n",
      " crudeoil.csv\n",
      " CRYUSD\n",
      " Data\n",
      " ETFs\n",
      "'Finding Cointegrated Pairs'\n",
      " InitialAnalysis.ipynb\n",
      "'InitialAnalysis - jp working.ipynb'\n",
      " Stocks\n",
      " Untitled.ipynb\n"
     ]
    }
   ],
   "source": [
    "! ls ../"
   ]
  },
  {
   "cell_type": "code",
   "execution_count": 6,
   "metadata": {},
   "outputs": [
    {
     "name": "stdout",
     "output_type": "stream",
     "text": [
      "ADA.csv   BTC.csv   DGB.csv   ICX.csv\tLTC.csv   OMG.csv    STX.csv\tXMR.csv\n",
      "AION.csv  BTS.csv   DNT.csv   IOST.csv\tMANA.csv  ONT.csv    THETA.csv\tXRP.csv\n",
      "ANT.csv   BUSD.csv  DOGE.csv  IOTA.csv\tMCO.csv   QTUM.csv   TRX.csv\tXTZ.csv\n",
      "ARDR.csv  CTXC.csv  ENJ.csv   IOTX.csv\tMITH.csv  REP.csv    TUSD.csv\tXZC.csv\n",
      "BAT.csv   CVC.csv   EOS.csv   KMD.csv\tMKR.csv   RLC.csv    UTK.csv\tZEC.csv\n",
      "BCC.csv   DAI.csv   ETC.csv   KNC.csv\tNANO.csv  SC.csv     VEN.csv\tZEN.csv\n",
      "BCH.csv   DASH.csv  ETH.csv   LEND.csv\tNEO.csv   SNX.csv    WAN.csv\tZIL.csv\n",
      "BLZ.csv   DATA.csv  FUN.csv   LINK.csv\tNMR.csv   STORJ.csv  WAVES.csv\tZRX.csv\n",
      "BNB.csv   DCR.csv   GTO.csv   LRC.csv\tNPXS.csv  STORM.csv  WTC.csv\n",
      "BNT.csv   DENT.csv  GXS.csv   LSK.csv\tNULS.csv  STRAT.csv  XLM.csv\n"
     ]
    }
   ],
   "source": [
    "! ls Folder/"
   ]
  },
  {
   "cell_type": "code",
   "execution_count": 9,
   "metadata": {},
   "outputs": [],
   "source": [
    "#TODO need to match it time scope"
   ]
  },
  {
   "cell_type": "code",
   "execution_count": 5,
   "metadata": {},
   "outputs": [],
   "source": [
    "symbols = ['ADA', 'AION', 'ANT', 'ARDR', 'BAT', 'BCC', 'BCH', 'BLZ', 'BNB', 'BNT', 'BTC', 'BTS', 'BUSD', 'CTXC', 'CVC', 'DAI', 'DASH', 'DATA', 'DCR', 'DENT', 'DGB', 'DNT', 'DOGE', 'ENJ', 'EOS', 'ETC', 'ETH', 'FUN', 'GTO', 'GXS', 'ICX', 'IOST', 'IOTA', 'IOTX', 'KMD', 'KNC', 'LEND', 'LINK', 'LRC', 'LSK', 'LTC', 'MANA', 'MCO', 'MITH', 'MKR', 'NANO', 'NEO', 'NMR', 'NPXS', 'NULS', 'OMG', 'ONT', 'QTUM', 'REP', 'RLC', 'SC', 'SNX', 'STORJ', 'STORM', 'STRAT', 'STX', 'THETA', 'TRX', 'TUSD', 'UTK', 'VEN', 'WAN', 'WAVES', 'WTC', 'XLM', 'XMR', 'XRP', 'XTZ', 'XZC', 'ZEC', 'ZEN', 'ZIL', 'ZRX']\n",
    "\n",
    "cointegrated_pairs = {}\n",
    "for symbol in symbols:\n",
    "    temp = spy_close\n",
    "    df = pd.read_csv('Folder/{}.csv'.format(symbol))\n",
    "    df_close = df['close']\n",
    "    temp = temp[-len(df_close):]\n",
    "    pval = coint(temp, df_close)[1]\n",
    "    \n",
    "    if pval < 0.01:\n",
    "        cointegrated_pairs[symbol] = df_close\n",
    "        print(\"{} is cointegrated\".format(symbol), \"p = {}\".format(pval))\n",
    "    \n",
    "    \n",
    "    "
   ]
  }
 ],
 "metadata": {
  "kernelspec": {
   "display_name": "Python 3",
   "language": "python",
   "name": "python3"
  },
  "language_info": {
   "codemirror_mode": {
    "name": "ipython",
    "version": 3
   },
   "file_extension": ".py",
   "mimetype": "text/x-python",
   "name": "python",
   "nbconvert_exporter": "python",
   "pygments_lexer": "ipython3",
   "version": "3.8.10"
  }
 },
 "nbformat": 4,
 "nbformat_minor": 4
}
